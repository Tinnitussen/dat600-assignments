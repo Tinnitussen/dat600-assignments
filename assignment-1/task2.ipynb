{
 "cells": [
  {
   "cell_type": "code",
   "execution_count": 1,
   "metadata": {
    "dotnet_interactive": {
     "language": "javascript"
    },
    "polyglot_notebook": {
     "kernelName": "javascript"
    }
   },
   "outputs": [],
   "source": [
    "import time\n",
    "import matplotlib.pyplot as plt\n",
    "from typing import List, Callable\n",
    "import random"
   ]
  },
  {
   "cell_type": "code",
   "execution_count": 4,
   "metadata": {
    "dotnet_interactive": {
     "language": "csharp"
    },
    "polyglot_notebook": {
     "kernelName": "csharp"
    }
   },
   "outputs": [],
   "source": [
    "def merge_sort(arr: List[int]) -> List[int]:\n",
    "    \"\"\"\n",
    "    Sorts a list in ascending order using the merge sort algorithm.\n",
    "    \n",
    "    Args:\n",
    "        arr (List[int]): The input list to be sorted\n",
    "        \n",
    "    Returns:\n",
    "        List[int]: A new sorted list\n",
    "        \n",
    "    Time Complexity: O(n log n) where n is the length of input array\n",
    "    Space Complexity: O(n) due to creating temporary arrays in merge process\n",
    "    \"\"\"\n",
    "    n = len(arr)\n",
    "    # Base case\n",
    "    if n <= 1:\n",
    "        return arr\n",
    "    # Split array in the middle\n",
    "    mid = n//2\n",
    "    arr1 = arr[0:mid]\n",
    "    arr2 = arr[mid:]\n",
    "    # Recursively split the array to be sorted\n",
    "    left = merge_sort(arr1)\n",
    "    right = merge_sort(arr2)\n",
    "    return merge_two_sorted_arrays(left, right)\n",
    "\n",
    "def merge_two_sorted_arrays(arr1: List[int], arr2: List[int]) -> List[int]:\n",
    "    \"\"\"\n",
    "    Merges two sorted arrays into a single sorted array.\n",
    "    \n",
    "    Args:\n",
    "        arr1 (List[int]): First sorted array\n",
    "        arr2 (List[int]): Second sorted array\n",
    "        \n",
    "    Returns:\n",
    "        List[int]: A new array containing all elements from arr1 and arr2 in sorted order\n",
    "        \n",
    "    Time Complexity: O(n + m) where n and m are lengths of input arrays\n",
    "    Space Complexity: O(n + m) for the merged array\n",
    "    \"\"\"\n",
    "    merged_arr = []\n",
    "    p1, p2 = 0, 0\n",
    "    while (p1 < len(arr1) and p2 < len(arr2)):\n",
    "        # Adds the smallest element to the output array\n",
    "        if arr1[p1] <= arr2[p2]:\n",
    "            merged_arr.append(arr1[p1])\n",
    "            p1 += 1\n",
    "        else:\n",
    "            merged_arr.append(arr2[p2])\n",
    "            p2 += 1\n",
    "        \n",
    "    # Add any remaining elements in either input arrays to the output\n",
    "    merged_arr.extend(arr1[p1:])\n",
    "    merged_arr.extend(arr2[p2:])\n",
    "    return merged_arr\n",
    "\n",
    "arr = [64, 34, 25, 12, 22, 11, 90]\n",
    "merge_sort(arr)"
   ]
  },
  {
   "cell_type": "code",
   "execution_count": 5,
   "metadata": {
    "dotnet_interactive": {
     "language": "csharp"
    },
    "polyglot_notebook": {
     "kernelName": "csharp"
    }
   },
   "outputs": [],
   "source": [
    "def plot_n_vs_runtime(algorithm_name: str, n_values: List[int], runtimes: List[float]):\n",
    "    plt.figure(figsize=(10, 6))\n",
    "    plt.plot(n_values, runtimes, 'bo-', linewidth=2, markersize=8, label=algorithm_name)\n",
    "    \n",
    "    # Adding labels and title\n",
    "    plt.xlabel('Input Size (n)', fontsize=12)\n",
    "    plt.ylabel('Runtime (seconds)', fontsize=12)\n",
    "    plt.title('Algorithm Runtime vs Input Size', fontsize=14)\n",
    "    \n",
    "    # Add grid for better readability\n",
    "    plt.grid(True, linestyle='--', alpha=0.7)\n",
    "    \n",
    "    # Ensure axis starts at 0\n",
    "    plt.xlim(left=0)\n",
    "    plt.ylim(bottom=0)\n",
    "    \n",
    "    plt.show()\n",
    "\n",
    "def calculate_runtime(input: List[int], sorting_function: Callable[[List[int]], None]) -> float:\n",
    "    # Make a copy of input to avoid modifying the original list\n",
    "    data = input.copy()\n",
    "    \n",
    "    # Record start time\n",
    "    start_time = time.time()\n",
    "    \n",
    "    # Execute the sorting function\n",
    "    sorting_function(data)\n",
    "    \n",
    "    # Calculate elapsed time\n",
    "    end_time = time.time()\n",
    "    runtime = end_time - start_time\n",
    "    \n",
    "    return runtime"
   ]
  },
  {
   "cell_type": "code",
   "execution_count": 6,
   "metadata": {
    "dotnet_interactive": {
     "language": "csharp"
    },
    "polyglot_notebook": {
     "kernelName": "csharp"
    }
   },
   "outputs": [],
   "source": [
    "# Generate different sizes to test\n",
    "n_values = list(range(1, 100000, 1000)) \n",
    "runtimes = []\n",
    "\n",
    "for n in n_values:\n",
    "    test_input = random.choices(range(100), k=n)\n",
    "    runtime = calculate_runtime(test_input, merge_sort)\n",
    "    runtimes.append(runtime)\n",
    "\n",
    "# Plot the results\n",
    "plot_n_vs_runtime(\"Merge-sort\", n_values, runtimes)"
   ]
  },
  {
   "cell_type": "code",
   "execution_count": 77,
   "metadata": {
    "dotnet_interactive": {
     "language": "csharp"
    },
    "polyglot_notebook": {
     "kernelName": "csharp"
    }
   },
   "outputs": [
    {
     "data": {
      "text/html": [
       "<div><div></div><div></div><div><strong>Installed Packages</strong><ul><li><span>ScottPlot, 5.0.54</span></li></ul></div></div>"
      ]
     },
     "metadata": {},
     "output_type": "display_data"
    }
   ],
   "source": [
    "#r \"nuget: ScottPlot, 5.0.54\"\n",
    "using System;\n",
    "using System.Collections.Generic;\n",
    "using System.Diagnostics;\n",
    "using System.Linq;\n",
    "using ScottPlot;"
   ]
  },
  {
   "cell_type": "code",
   "execution_count": 78,
   "metadata": {
    "dotnet_interactive": {
     "language": "csharp"
    },
    "polyglot_notebook": {
     "kernelName": "csharp"
    }
   },
   "outputs": [],
   "source": [
    "public class Sorter {\n",
    "    public int[] MergeSort(int[] arr)\n",
    "    {\n",
    "        int n = arr.Length;\n",
    "        if (n <= 1)\n",
    "        {\n",
    "            return arr;\n",
    "        }\n",
    "        int mid = n/2;\n",
    "        int[] arr1 = arr[..mid];\n",
    "        int[] arr2 = arr[mid..];\n",
    "        int[] left = MergeSort(arr1);\n",
    "        int[] right = MergeSort(arr2);\n",
    "        return MergeTwoSortedArrays(left, right);\n",
    "    }\n",
    "    public int[] MergeTwoSortedArrays(int[] arr1, int[] arr2)\n",
    "    {\n",
    "        int[] mergedArr = new int[arr1.Length + arr2.Length];\n",
    "        int p1 = 0;\n",
    "        int p2 = 0;\n",
    "        int p3 = 0;\n",
    "        while (p1 < arr1.Length && p2 < arr2.Length)\n",
    "        {\n",
    "            if (arr1[p1] < arr2[p2])\n",
    "            {\n",
    "                mergedArr[p3++] = arr1[p1++];\n",
    "            } \n",
    "            else \n",
    "            {\n",
    "                mergedArr[p3++] = arr2[p2++];\n",
    "            }\n",
    "        }\n",
    "        while (p1 < arr1.Length)\n",
    "        {\n",
    "            mergedArr[p3++] = arr1[p1++];\n",
    "        }\n",
    "        while (p2 < arr2.Length)\n",
    "        {\n",
    "            mergedArr[p3++] = arr2[p2++];\n",
    "        }\n",
    "        return mergedArr;\n",
    "    }\n",
    "}"
   ]
  },
  {
   "cell_type": "code",
   "execution_count": 79,
   "metadata": {
    "dotnet_interactive": {
     "language": "csharp"
    },
    "polyglot_notebook": {
     "kernelName": "csharp"
    }
   },
   "outputs": [],
   "source": [
    "static double CalculateRuntime(int[] input, Func<int[], int[]> sortingFunction)\n",
    "{\n",
    "    // Make a copy of input to avoid modifying original\n",
    "    var data = (int[])input.Clone();\n",
    "\n",
    "    var stopwatch = new Stopwatch();\n",
    "    stopwatch.Start();\n",
    "\n",
    "    sortingFunction(data);\n",
    "\n",
    "    stopwatch.Stop();\n",
    "    return stopwatch.ElapsedTicks / (double)Stopwatch.Frequency;\n",
    "}\n",
    "\n",
    "static void PlotResults(List<int> nValues, List<double> runtimes, string algorithmName)\n",
    "{\n",
    "    var plot = new Plot();\n",
    "    \n",
    "    // Convert data to doubles\n",
    "    double[] xData = nValues.Select(x => (double)x).ToArray();\n",
    "    double[] yData = runtimes.ToArray();\n",
    "\n",
    "    // Create the scatter plot\n",
    "    plot.Add.Scatter(xData, yData);\n",
    "\n",
    "    // Customize the plot\n",
    "    plot.Title(\"Algorithm Runtime vs Input Size\");\n",
    "    plot.XLabel(\"Input Size (n)\");\n",
    "    plot.YLabel(\"Runtime (seconds)\");\n",
    "\n",
    "    // Add grid lines\n",
    "    plot.ShowGrid();\n",
    "\n",
    "    // Save the plot\n",
    "    plot.SavePng(\"merge_sort_performance.png\", 1000, 600);\n",
    "    Console.WriteLine(\"Plot saved as merge_sort_performance.png\");\n",
    "}"
   ]
  },
  {
   "cell_type": "code",
   "execution_count": 83,
   "metadata": {
    "dotnet_interactive": {
     "language": "csharp"
    },
    "polyglot_notebook": {
     "kernelName": "csharp"
    }
   },
   "outputs": [],
   "source": [
    "// Initialize the sorter\n",
    "var sorter = new Sorter();\n",
    "\n",
    "// Generate different sizes to test (1 to 100000, step 1000)\n",
    "var nValues = Enumerable.Range(1, 100)\n",
    "    .Select(x => x * 1000)  // This gives us 1000, 2000, ..., 100000\n",
    "    .ToList();\n",
    "\n",
    "var runtimes = new List<double>();\n",
    "var random = new Random();\n",
    "\n",
    "// Measure runtime for each input size\n",
    "foreach (int n in nValues)\n",
    "{\n",
    "    // Generate random test data (equivalent to random.choices(range(100), k=n))\n",
    "    var testInput = Enumerable.Range(0, n)\n",
    "        .Select(_ => random.Next(100))\n",
    "        .ToArray();\n",
    "\n",
    "    // Measure runtime\n",
    "    var runtime = CalculateRuntime(testInput, sorter.MergeSort);\n",
    "    runtimes.Add(runtime);\n",
    "}\n",
    "\n",
    "// Plot the results\n",
    "var plot = new Plot();\n",
    "plot.Add.Scatter(\n",
    "    nValues.Select(x => (double)x).ToArray(), \n",
    "    runtimes.ToArray()\n",
    ");\n",
    "plot.Title(\"Algorithm Runtime vs Input Size\");\n",
    "plot.XLabel(\"Input Size (n)\");\n",
    "plot.YLabel(\"Runtime (seconds)\");\n",
    "\n",
    "plot.SavePng(\"merge_sort_csharp.png\", 1000, 600);"
   ]
  }
 ],
 "metadata": {
  "kernelspec": {
   "display_name": ".venv",
   "language": "python",
   "name": "python3"
  },
  "language_info": {
   "codemirror_mode": {
    "name": "ipython",
    "version": 3
   },
   "file_extension": ".py",
   "mimetype": "text/x-python",
   "name": "python",
   "nbconvert_exporter": "python",
   "pygments_lexer": "ipython3",
   "version": "3.11.9"
  },
  "polyglot_notebook": {
   "kernelInfo": {
    "defaultKernelName": "csharp",
    "items": [
     {
      "aliases": [
       "C#",
       "c#"
      ],
      "languageName": "csharp",
      "name": "csharp"
     }
    ]
   }
  }
 },
 "nbformat": 4,
 "nbformat_minor": 2
}
