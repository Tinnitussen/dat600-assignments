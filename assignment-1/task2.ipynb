{
 "cells": [
  {
   "cell_type": "code",
   "execution_count": 2,
   "metadata": {
    "dotnet_interactive": {
     "language": "javascript"
    },
    "polyglot_notebook": {
     "kernelName": "javascript"
    },
    "vscode": {
     "languageId": "polyglot-notebook"
    }
   },
   "outputs": [],
   "source": [
    "import time\n",
    "import matplotlib.pyplot as plt\n",
    "from typing import List, Callable, Dict, Union\n",
    "import random\n",
    "import csv\n",
    "import pandas as pd"
   ]
  },
  {
   "cell_type": "code",
   "execution_count": 3,
   "metadata": {
    "dotnet_interactive": {
     "language": "csharp"
    },
    "polyglot_notebook": {
     "kernelName": "csharp"
    },
    "vscode": {
     "languageId": "polyglot-notebook"
    }
   },
   "outputs": [],
   "source": [
    "def merge_sort(arr: List[int]) -> List[int]:\n",
    "    n = len(arr)\n",
    "    # Base case\n",
    "    if n <= 1:\n",
    "        return arr\n",
    "    # Split array in the middle\n",
    "    mid = n//2\n",
    "    arr1 = arr[0:mid]\n",
    "    arr2 = arr[mid:]\n",
    "    # Recursively split the array to be sorted\n",
    "    left = merge_sort(arr1)\n",
    "    right = merge_sort(arr2)\n",
    "    return merge_two_sorted_arrays(left, right)\n",
    "\n",
    "def merge_two_sorted_arrays(arr1: List[int], arr2: List[int]) -> List[int]:\n",
    "    merged_arr = []\n",
    "    p1, p2 = 0, 0\n",
    "    while (p1 < len(arr1) and p2 < len(arr2)):\n",
    "        # Adds the smallest element to the output array\n",
    "        if arr1[p1] <= arr2[p2]:\n",
    "            merged_arr.append(arr1[p1])\n",
    "            p1 += 1\n",
    "        else:\n",
    "            merged_arr.append(arr2[p2])\n",
    "            p2 += 1\n",
    "        \n",
    "    # Add any remaining elements in either input arrays to the output\n",
    "    merged_arr.extend(arr1[p1:])\n",
    "    merged_arr.extend(arr2[p2:])\n",
    "    return merged_arr\n",
    "\n",
    "arr = [64, 34, 25, 12, 22, 11, 90]\n",
    "merge_sort(arr)"
   ]
  },
  {
   "cell_type": "code",
   "execution_count": 3,
   "metadata": {
    "dotnet_interactive": {
     "language": "csharp"
    },
    "polyglot_notebook": {
     "kernelName": "csharp"
    },
    "vscode": {
     "languageId": "polyglot-notebook"
    }
   },
   "outputs": [],
   "source": [
    "def plot_n_vs_runtime(algorithm_name: str, n_values: List[int], runtimes: List[float]):\n",
    "    plt.figure(figsize=(10, 6))\n",
    "    plt.plot(n_values, runtimes, \"bo-\", linewidth=2, markersize=8, label=algorithm_name)\n",
    "    \n",
    "    # Adding labels and title\n",
    "    plt.xlabel(\"Input Size (n)\", fontsize=12)\n",
    "    plt.ylabel(\"Runtime (seconds)\", fontsize=12)\n",
    "    plt.title(\"Algorithm Runtime vs Input Size\", fontsize=14)\n",
    "    \n",
    "    # Add grid for better readability\n",
    "    plt.grid(True, linestyle=\"--\", alpha=0.7)\n",
    "    \n",
    "    # Ensure axis starts at 0\n",
    "    plt.xlim(left=0)\n",
    "    plt.ylim(bottom=0)\n",
    "    \n",
    "    plt.show()\n",
    "\n",
    "def calculate_runtime(input: List[int], sorting_function: Callable[[List[int]], None]) -> float:\n",
    "    # Make a copy of input to avoid modifying the original list\n",
    "    data = input.copy()\n",
    "    \n",
    "    # Record start time\n",
    "    start_time = time.time()\n",
    "    \n",
    "    # Execute the sorting function\n",
    "    sorting_function(data)\n",
    "    \n",
    "    # Calculate elapsed time\n",
    "    end_time = time.time()\n",
    "    runtime = end_time - start_time\n",
    "    \n",
    "    return runtime"
   ]
  },
  {
   "cell_type": "code",
   "execution_count": 2,
   "metadata": {
    "dotnet_interactive": {
     "language": "csharp"
    },
    "polyglot_notebook": {
     "kernelName": "csharp"
    },
    "vscode": {
     "languageId": "polyglot-notebook"
    }
   },
   "outputs": [
    {
     "ename": "Error",
     "evalue": "(1,3): error CS1024: Preprocessor directive expected\r\n(2,44): error CS1002: ; expected\r\n(4,14): error CS1002: ; expected\r\n(5,13): error CS1002: ; expected\r\n(7,5): error CS1003: Syntax error, '(' expected\r\n(7,7): error CS1003: Syntax error, ',' expected\r\n(7,10): error CS1003: Syntax error, ',' expected\r\n(7,18): error CS1003: Syntax error, ',' expected\r\n(7,19): error CS1003: Syntax error, ',' expected\r\n(8,49): error CS1003: Syntax error, ',' expected\r\n(9,56): error CS1003: Syntax error, ',' expected\r\n(10,29): error CS1003: Syntax error, ',' expected\r\n(11,20): error CS1026: ) expected\r\n(11,20): error CS1002: ; expected\r\n(11,20): error CS1525: Invalid expression term '{'\r\n(11,20): error CS1002: ; expected\r\n(11,20): error CS1026: ) expected\r\n(11,24): error CS1002: ; expected\r\n(11,24): error CS1513: } expected\r\n(11,27): error CS1002: ; expected\r\n(11,27): error CS1513: } expected\r\n(11,38): error CS1002: ; expected\r\n(11,38): error CS1513: } expected\r\n(11,47): error CS1002: ; expected\r\n(11,48): error CS7017: Member definition, statement, or end-of-file expected\r\n(13,39): error CS1002: ; expected\r\n(14,23): error CS1001: Identifier expected\r\n(14,25): error CS1031: Type expected\r\n(14,25): error CS1001: Identifier expected\r\n(14,25): error CS1003: Syntax error, ',' expected\r\n(14,37): error CS1001: Identifier expected\r\n(14,42): error CS1002: ; expected\r\n(14,42): error CS1525: Invalid expression term 'as'\r\n(14,52): error CS1002: ; expected\r\n(14,52): error CS7017: Member definition, statement, or end-of-file expected\r\n(15,34): error CS1002: ; expected\r\n(16,60): error CS1002: ; expected\r\n(18,25): error CS1002: ; expected\r\n(19,30): error CS1002: ; expected\r\n(21,3): error CS1024: Preprocessor directive expected",
     "output_type": "error",
     "traceback": [
      "(1,3): error CS1024: Preprocessor directive expected\r\n",
      "(2,44): error CS1002: ; expected\r\n",
      "(4,14): error CS1002: ; expected\r\n",
      "(5,13): error CS1002: ; expected\r\n",
      "(7,5): error CS1003: Syntax error, '(' expected\r\n",
      "(7,7): error CS1003: Syntax error, ',' expected\r\n",
      "(7,10): error CS1003: Syntax error, ',' expected\r\n",
      "(7,18): error CS1003: Syntax error, ',' expected\r\n",
      "(7,19): error CS1003: Syntax error, ',' expected\r\n",
      "(8,49): error CS1003: Syntax error, ',' expected\r\n",
      "(9,56): error CS1003: Syntax error, ',' expected\r\n",
      "(10,29): error CS1003: Syntax error, ',' expected\r\n",
      "(11,20): error CS1026: ) expected\r\n",
      "(11,20): error CS1002: ; expected\r\n",
      "(11,20): error CS1525: Invalid expression term '{'\r\n",
      "(11,20): error CS1002: ; expected\r\n",
      "(11,20): error CS1026: ) expected\r\n",
      "(11,24): error CS1002: ; expected\r\n",
      "(11,24): error CS1513: } expected\r\n",
      "(11,27): error CS1002: ; expected\r\n",
      "(11,27): error CS1513: } expected\r\n",
      "(11,38): error CS1002: ; expected\r\n",
      "(11,38): error CS1513: } expected\r\n",
      "(11,47): error CS1002: ; expected\r\n",
      "(11,48): error CS7017: Member definition, statement, or end-of-file expected\r\n",
      "(13,39): error CS1002: ; expected\r\n",
      "(14,23): error CS1001: Identifier expected\r\n",
      "(14,25): error CS1031: Type expected\r\n",
      "(14,25): error CS1001: Identifier expected\r\n",
      "(14,25): error CS1003: Syntax error, ',' expected\r\n",
      "(14,37): error CS1001: Identifier expected\r\n",
      "(14,42): error CS1002: ; expected\r\n",
      "(14,42): error CS1525: Invalid expression term 'as'\r\n",
      "(14,52): error CS1002: ; expected\r\n",
      "(14,52): error CS7017: Member definition, statement, or end-of-file expected\r\n",
      "(15,34): error CS1002: ; expected\r\n",
      "(16,60): error CS1002: ; expected\r\n",
      "(18,25): error CS1002: ; expected\r\n",
      "(19,30): error CS1002: ; expected\r\n",
      "(21,3): error CS1024: Preprocessor directive expected"
     ]
    }
   ],
   "source": [
    "# Generate different sizes to test\n",
    "n_values = list(range(1000, 1001000, 1000)) \n",
    "\n",
    "runtimes = []\n",
    "results = []\n",
    "\n",
    "for n in n_values:\n",
    "    test_input = random.choices(range(100), k=n)\n",
    "    runtime = calculate_runtime(test_input, merge_sort)\n",
    "    runtimes.append(runtime)\n",
    "    results.append({\"n\": n, \"runtime\": runtime})\n",
    "\n",
    "csv_filename = \"merge_sort_python.csv\"\n",
    "with open(csv_filename, \"w\", newline=\"\") as csvfile:\n",
    "    fieldnames = [\"n\", \"runtime\"]\n",
    "    writer = csv.DictWriter(csvfile, fieldnames=fieldnames)\n",
    "    \n",
    "    writer.writeheader()\n",
    "    writer.writerows(results)\n",
    "    \n",
    "# Plot the results\n",
    "plot_n_vs_runtime(\"Merge-sort\", n_values, runtimes)"
   ]
  },
  {
   "cell_type": "code",
   "execution_count": 3,
   "metadata": {
    "dotnet_interactive": {
     "language": "csharp"
    },
    "polyglot_notebook": {
     "kernelName": "csharp"
    },
    "vscode": {
     "languageId": "polyglot-notebook"
    }
   },
   "outputs": [],
   "source": [
    "using System;\n",
    "using System.Collections.Generic;\n",
    "using System.Diagnostics;\n",
    "using System.Linq;\n",
    "using System.IO;\n",
    "using System.Globalization;"
   ]
  },
  {
   "cell_type": "code",
   "execution_count": 4,
   "metadata": {
    "dotnet_interactive": {
     "language": "csharp"
    },
    "polyglot_notebook": {
     "kernelName": "csharp"
    },
    "vscode": {
     "languageId": "polyglot-notebook"
    }
   },
   "outputs": [],
   "source": [
    "public class Sorter {\n",
    "    public int[] MergeSort(int[] arr)\n",
    "    {\n",
    "        int n = arr.Length;\n",
    "        if (n <= 1)\n",
    "        {\n",
    "            return arr;\n",
    "        }\n",
    "        int mid = n/2;\n",
    "        int[] arr1 = arr[..mid];\n",
    "        int[] arr2 = arr[mid..];\n",
    "        int[] left = MergeSort(arr1);\n",
    "        int[] right = MergeSort(arr2);\n",
    "        return MergeTwoSortedArrays(left, right);\n",
    "    }\n",
    "    public int[] MergeTwoSortedArrays(int[] arr1, int[] arr2)\n",
    "    {\n",
    "        int[] mergedArr = new int[arr1.Length + arr2.Length];\n",
    "        int p1 = 0;\n",
    "        int p2 = 0;\n",
    "        int p3 = 0;\n",
    "        while (p1 < arr1.Length && p2 < arr2.Length)\n",
    "        {\n",
    "            if (arr1[p1] < arr2[p2])\n",
    "            {\n",
    "                mergedArr[p3++] = arr1[p1++];\n",
    "            } \n",
    "            else \n",
    "            {\n",
    "                mergedArr[p3++] = arr2[p2++];\n",
    "            }\n",
    "        }\n",
    "        while (p1 < arr1.Length)\n",
    "        {\n",
    "            mergedArr[p3++] = arr1[p1++];\n",
    "        }\n",
    "        while (p2 < arr2.Length)\n",
    "        {\n",
    "            mergedArr[p3++] = arr2[p2++];\n",
    "        }\n",
    "        return mergedArr;\n",
    "    }\n",
    "}"
   ]
  },
  {
   "cell_type": "code",
   "execution_count": 5,
   "metadata": {
    "dotnet_interactive": {
     "language": "csharp"
    },
    "polyglot_notebook": {
     "kernelName": "csharp"
    },
    "vscode": {
     "languageId": "polyglot-notebook"
    }
   },
   "outputs": [],
   "source": [
    "static double CalculateRuntime(int[] input, Func<int[], int[]> sortingFunction)\n",
    "{\n",
    "    var data = (int[])input.Clone();\n",
    "\n",
    "    var stopwatch = new Stopwatch();\n",
    "    stopwatch.Start();\n",
    "\n",
    "    sortingFunction(data);\n",
    "\n",
    "    stopwatch.Stop();\n",
    "    return stopwatch.ElapsedTicks / (double)Stopwatch.Frequency;\n",
    "}"
   ]
  },
  {
   "cell_type": "code",
   "execution_count": 13,
   "metadata": {
    "dotnet_interactive": {
     "language": "csharp"
    },
    "polyglot_notebook": {
     "kernelName": "csharp"
    },
    "vscode": {
     "languageId": "polyglot-notebook"
    }
   },
   "outputs": [],
   "source": [
    "var sorter = new Sorter();\n",
    "\n",
    "var nValues = Enumerable.Range(1, 1000)\n",
    "    .Select(x => x * 1000) \n",
    "    .ToList();\n",
    "\n",
    "var runtimes = new List<double>();\n",
    "var random = new Random();\n",
    "\n",
    "foreach (int n in nValues)\n",
    "{\n",
    "    var testInput = Enumerable.Range(0, n)\n",
    "        .Select(_ => random.Next(100))\n",
    "        .ToArray();\n",
    "\n",
    "    var runtime = CalculateRuntime(testInput, sorter.MergeSort);\n",
    "    runtimes.Add(runtime);\n",
    "}\n",
    "\n",
    "var csvLines = new List<string>\n",
    "{\n",
    "    \"InputSize,RuntimeSeconds\" // Header\n",
    "};\n",
    "\n",
    "for (int i = 0; i < nValues.Count; i++)\n",
    "{\n",
    "    csvLines.Add($\"{nValues[i]},{runtimes[i]}\");\n",
    "}\n",
    "\n",
    "System.IO.File.WriteAllLines(\"merge_sort_csharp.csv\", csvLines);"
   ]
  },
  {
   "cell_type": "code",
   "execution_count": 5,
   "metadata": {
    "dotnet_interactive": {
     "language": "csharp"
    },
    "polyglot_notebook": {
     "kernelName": "csharp"
    },
    "vscode": {
     "languageId": "polyglot-notebook"
    }
   },
   "outputs": [],
   "source": [
    "def plot_algorithm_comparison(\n",
    "    performance_data: Dict[str, Dict[str, List[float]]],\n",
    "    plot_config: Dict[str, Dict[str, str]] = None\n",
    ") -> None:\n",
    "    if plot_config is None:\n",
    "        plot_config = {\n",
    "            \"styles\": {\n",
    "                \"Python\": \"bo-\",\n",
    "                \"C#\": \"ro-\"\n",
    "            },\n",
    "            \"title\": \"Algorithm Runtime Comparison\",\n",
    "            \"xlabel\": \"Input Size (n)\",\n",
    "            \"ylabel\": \"Runtime (seconds)\"\n",
    "        }\n",
    "    \n",
    "    # Create the plot\n",
    "    plt.figure(figsize=(12, 7))\n",
    "    \n",
    "    # Plot data for each implementation\n",
    "    for impl_name, data in performance_data.items():\n",
    "        style = plot_config[\"styles\"].get(impl_name, \"o-\")\n",
    "        plt.plot(\n",
    "            data[\"sizes\"],\n",
    "            data[\"runtimes\"],\n",
    "            style,\n",
    "            linewidth=2,\n",
    "            markersize=6,\n",
    "            label=impl_name,\n",
    "            alpha=0.7\n",
    "        )\n",
    "    \n",
    "    # Customize the plot\n",
    "    plt.title(plot_config.get(\"title\", \"Algorithm Runtime Comparison\"), fontsize=14, pad=20)\n",
    "    plt.xlabel(plot_config.get(\"xlabel\", \"Input Size (n)\"), fontsize=12)\n",
    "    plt.ylabel(plot_config.get(\"ylabel\", \"Runtime (seconds)\"), fontsize=12)\n",
    "    plt.grid(True, linestyle=\"--\", alpha=0.7)\n",
    "    plt.legend(fontsize=10, framealpha=0.9)\n",
    "    plt.xlim(left=0)\n",
    "    plt.ylim(bottom=0)\n",
    "    plt.tight_layout()\n",
    "    plt.show()"
   ]
  },
  {
   "cell_type": "code",
   "execution_count": 6,
   "metadata": {
    "dotnet_interactive": {
     "language": "csharp"
    },
    "polyglot_notebook": {
     "kernelName": "csharp"
    },
    "vscode": {
     "languageId": "polyglot-notebook"
    }
   },
   "outputs": [],
   "source": [
    "python_df = pd.read_csv(\"merge_sort_python.csv\")\n",
    "csharp_df = pd.read_csv(\"merge_sort_csharp.csv\")\n",
    "\n",
    "performance_data = {\n",
    "    \"Python\": {\n",
    "        \"sizes\": python_df[\"n\"].tolist(),\n",
    "        \"runtimes\": python_df[\"runtime\"].tolist()\n",
    "    },\n",
    "    \"C#\": {\n",
    "        \"sizes\": csharp_df[\"InputSize\"].tolist(),\n",
    "        \"runtimes\": csharp_df[\"RuntimeSeconds\"].tolist()\n",
    "    }\n",
    "}\n",
    "\n",
    "print(\"Python data points:\", len(performance_data[\"Python\"][\"sizes\"]))\n",
    "print(\"C# data points:\", len(performance_data[\"C#\"][\"sizes\"]))\n",
    "plot_config = {\n",
    "    \"styles\": {\n",
    "        \"Python\": \"b-\",\n",
    "        \"C#\": \"r-\"\n",
    "    },\n",
    "    \"title\": \"Merge Sort Runtime Comparison: Python vs C#\",\n",
    "    \"xlabel\": \"Input Size (n)\",\n",
    "    \"ylabel\": \"Runtime (seconds)\"\n",
    "}\n",
    "plot_algorithm_comparison(performance_data, plot_config)"
   ]
  }
 ],
 "metadata": {
  "kernelspec": {
   "display_name": ".NET (C#)",
   "language": "C#",
   "name": ".net-csharp"
  },
  "language_info": {
   "codemirror_mode": {
    "name": "ipython",
    "version": 3
   },
   "file_extension": ".py",
   "mimetype": "text/x-python",
   "name": "python",
   "nbconvert_exporter": "python",
   "pygments_lexer": "ipython3",
   "version": "3.11.9"
  },
  "polyglot_notebook": {
   "kernelInfo": {
    "defaultKernelName": "csharp",
    "items": [
     {
      "aliases": [
       "C#",
       "c#"
      ],
      "languageName": "csharp",
      "name": "csharp"
     }
    ]
   }
  }
 },
 "nbformat": 4,
 "nbformat_minor": 2
}
