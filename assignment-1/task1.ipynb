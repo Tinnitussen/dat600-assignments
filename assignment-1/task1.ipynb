{
 "cells": [
  {
   "cell_type": "markdown",
   "metadata": {},
   "source": [
    "# Task 1: Counting the Steps\n",
    "\n",
    "Implement the four algorithms listed in Table 1 in python using Jupyter notebook or design your own python library. Then vary the size of the input and record the number of steps. Plot the number of steps as a function of the input size (n) to confirm that the plotted functions match the asymptotic running time shown in the Table.\n",
    "\n",
    "| Algorithm      | Worst-case running time |\n",
    "|---------------|------------------------|\n",
    "| Insertion-sort | Θ(n²)                 |\n",
    "| Merge-sort    | Θ(n log n)             |\n",
    "| Heap-sort     | O(n log n)             |\n",
    "| Quicksort     | Θ(n²)                 |\n",
    "\n",
    "Hint: see the demo from the lecture"
   ]
  },
  {
   "cell_type": "code",
   "execution_count": 70,
   "metadata": {},
   "outputs": [],
   "source": [
    "import matplotlib.pyplot as plt\n",
    "from typing import List, Callable"
   ]
  },
  {
   "cell_type": "code",
   "execution_count": 71,
   "metadata": {},
   "outputs": [
    {
     "data": {
      "text/plain": [
       "[11, 12, 22, 25, 34, 64, 90]"
      ]
     },
     "execution_count": 71,
     "metadata": {},
     "output_type": "execute_result"
    }
   ],
   "source": [
    "def insertion_sort(arr: List[int]) -> List[int]:\n",
    "    \"\"\"\n",
    "   Sort a list of integers in ascending order using insertion sort algorithm.\n",
    "   \n",
    "   Args:\n",
    "       arr: List of integers to be sorted\n",
    "       \n",
    "   Returns:\n",
    "       The same list sorted in ascending order\n",
    "       \n",
    "    Time Complexity: O(n²) where n is the length of input array\n",
    "    Space Complexity: O(1) as it sorts in-place\n",
    "   \"\"\"\n",
    "    for i in range(1, len(arr)): # Loop will run n - 1\n",
    "        j = i - 1 # (n - 1) * c1\n",
    "        key = arr[i] # (n - 1) * c2\n",
    "        while j >= 0 and key < arr[j]: # Loop will run (n - k)\n",
    "            arr[j+1] = arr[j] # (n - c3) * c5\n",
    "            j -= 1 # (n - c3) * c6\n",
    "        arr[j+1] = key # (n - 1) * c7\n",
    "    return arr # c8\n",
    "\n",
    "arr = [64, 34, 25, 12, 22, 11, 90]\n",
    "insertion_sort(arr)"
   ]
  },
  {
   "cell_type": "code",
   "execution_count": 72,
   "metadata": {},
   "outputs": [
    {
     "data": {
      "text/plain": [
       "[11, 12, 22, 25, 34, 64, 90]"
      ]
     },
     "execution_count": 72,
     "metadata": {},
     "output_type": "execute_result"
    }
   ],
   "source": [
    "def merge_sort(arr: List[int]) -> List[int]:\n",
    "    \"\"\"\n",
    "    Sorts a list in ascending order using the merge sort algorithm.\n",
    "    \n",
    "    Args:\n",
    "        arr (List[int]): The input list to be sorted\n",
    "        \n",
    "    Returns:\n",
    "        List[int]: A new sorted list\n",
    "        \n",
    "    Time Complexity: O(n log n) where n is the length of input array\n",
    "    Space Complexity: O(n) due to creating temporary arrays in merge process\n",
    "    \"\"\"\n",
    "    n = len(arr)\n",
    "    # Base case\n",
    "    if n <= 1:\n",
    "        return arr\n",
    "    # Split array in the middle\n",
    "    mid = n//2\n",
    "    arr1 = arr[0:mid]\n",
    "    arr2 = arr[mid:]\n",
    "    # Recursively split the array to be sorted\n",
    "    left = merge_sort(arr1)\n",
    "    right = merge_sort(arr2)\n",
    "    return merge_two_sorted_arrays(left, right)\n",
    "\n",
    "def merge_two_sorted_arrays(arr1: List[int], arr2: List[int]) -> List[int]:\n",
    "    \"\"\"\n",
    "    Merges two sorted arrays into a single sorted array.\n",
    "    \n",
    "    Args:\n",
    "        arr1 (List[int]): First sorted array\n",
    "        arr2 (List[int]): Second sorted array\n",
    "        \n",
    "    Returns:\n",
    "        List[int]: A new array containing all elements from arr1 and arr2 in sorted order\n",
    "        \n",
    "    Time Complexity: O(n + m) where n and m are lengths of input arrays\n",
    "    Space Complexity: O(n + m) for the merged array\n",
    "    \"\"\"\n",
    "    merged_arr = []\n",
    "    p1, p2 = 0, 0\n",
    "    while (p1 < len(arr1) and p2 < len(arr2)):\n",
    "        # Adds the smallest element to the output array\n",
    "        if arr1[p1] <= arr2[p2]:\n",
    "            merged_arr.append(arr1[p1])\n",
    "            p1 += 1\n",
    "        else:\n",
    "            merged_arr.append(arr2[p2])\n",
    "            p2 += 1\n",
    "        \n",
    "    # Add any remaining elements in either input arrays to the output\n",
    "    merged_arr.extend(arr1[p1:])\n",
    "    merged_arr.extend(arr2[p2:])\n",
    "    return merged_arr\n",
    "\n",
    "arr = [64, 34, 25, 12, 22, 11, 90]\n",
    "merge_sort(arr)"
   ]
  },
  {
   "cell_type": "code",
   "execution_count": 73,
   "metadata": {},
   "outputs": [
    {
     "name": "stdout",
     "output_type": "stream",
     "text": [
      "[12, 11, 13, 5, 6, 7]\n",
      "After: [5, 6, 7, 11, 12, 13]\n"
     ]
    }
   ],
   "source": [
    "def heap_sort(arr: List[int]) -> List[int]:\n",
    "\n",
    "    n = len(arr)\n",
    "\n",
    "    for i in range(n // 2 - 1, -1, -1):\n",
    "        heapify(arr, n, i)\n",
    "\n",
    "    for i in range(n - 1, 0, -1):\n",
    "        arr[0], arr[i] = arr[i], arr[0]\n",
    "        heapify(arr, i, 0)\n",
    "\n",
    "    return arr\n",
    "\n",
    "def heapify(arr, n, i):\n",
    "    largest = i\n",
    "    left = 2 * i + 1\n",
    "    right = 2 * i + 2\n",
    "\n",
    "    if left < n and arr[left] > arr[largest]:\n",
    "        largest = left\n",
    "\n",
    "    if right < n and arr[right] > arr[largest]:\n",
    "        largest = right\n",
    "\n",
    "    if largest != i:\n",
    "        arr[i], arr[largest] = arr[largest], arr[i]\n",
    "        heapify(arr, n, largest)\n",
    "\n",
    "arr = [12, 11, 13, 5, 6, 7]\n",
    "print(arr)\n",
    "heap_sort(arr)\n",
    "print(\"After:\", arr)  # arr is modified"
   ]
  },
  {
   "cell_type": "code",
   "execution_count": 74,
   "metadata": {},
   "outputs": [
    {
     "name": "stdout",
     "output_type": "stream",
     "text": [
      "[0, 1, 2]\n"
     ]
    }
   ],
   "source": [
    "def quicksort(arr: List[int], start: int = 0, end: int = None) -> List[int]:\n",
    "    if end is None:\n",
    "        end = len(arr) - 1\n",
    "    \n",
    "    # Base case for recursion\n",
    "    if start >= end:\n",
    "        return arr\n",
    "    \n",
    "    # Choose first element of arr as pivot\n",
    "    pivot = arr[start]\n",
    "\n",
    "    # Move pivot to the end of the array\n",
    "    arr[start] = arr[end]\n",
    "    arr[end] = pivot\n",
    "    \n",
    "    left = start\n",
    "    right = end - 1\n",
    "\n",
    "    while left <= right:\n",
    "        # Increment left pointer until we find a value that is larger than pivot\n",
    "        while left < end and arr[left] <= pivot:\n",
    "            left += 1\n",
    "        # Decrement right pointer until we find a value that is smaller than pivot\n",
    "        while right > start and arr[right] >= pivot:\n",
    "            right -= 1\n",
    "        if left <= right:  \n",
    "            arr[left], arr[right] = arr[right], arr[left]\n",
    "\n",
    "    # In the end left pointer will be at the position we want the pivot\n",
    "    arr[left], arr[end] = arr[end], arr[left]\n",
    "\n",
    "    quicksort(arr, start, left - 1)\n",
    "    quicksort(arr, left + 1, end)\n",
    "    return arr\n",
    "\n",
    "arr = [1, 0, 2]\n",
    "quicksort(arr)\n",
    "print(arr)"
   ]
  }
 ],
 "metadata": {
  "kernelspec": {
   "display_name": ".venv",
   "language": "python",
   "name": "python3"
  },
  "language_info": {
   "codemirror_mode": {
    "name": "ipython",
    "version": 3
   },
   "file_extension": ".py",
   "mimetype": "text/x-python",
   "name": "python",
   "nbconvert_exporter": "python",
   "pygments_lexer": "ipython3",
   "version": "3.11.9"
  }
 },
 "nbformat": 4,
 "nbformat_minor": 2
}
